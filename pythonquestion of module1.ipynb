{
 "cells": [
  {
   "cell_type": "code",
   "execution_count": null,
   "id": "d7a14781-c109-40c2-9e0c-740e13f15e8a",
   "metadata": {},
   "outputs": [],
   "source": [
    "print(type(\"10\"))"
   ]
  },
  {
   "cell_type": "code",
   "execution_count": null,
   "id": "88494160-9935-423e-aac7-4b186bb0e12e",
   "metadata": {},
   "outputs": [],
   "source": [
    "correct variable\n",
    "123abc\n",
    "_abc\n",
    "Name\n",
    "True"
   ]
  },
  {
   "cell_type": "code",
   "execution_count": null,
   "id": "eebd6f13-dd49-4b82-b037-8b1f4a838899",
   "metadata": {},
   "outputs": [],
   "source": [
    "valid string\n",
    "b='abc'\n",
    "b='123'\n",
    "b=[abc]"
   ]
  },
  {
   "cell_type": "code",
   "execution_count": null,
   "id": "c664d181-abcf-4999-8029-280fd57b4539",
   "metadata": {},
   "outputs": [],
   "source": []
  },
  {
   "cell_type": "code",
   "execution_count": null,
   "id": "9fe71a07-e0a2-4643-828a-7e390a6cff24",
   "metadata": {},
   "outputs": [],
   "source": [
    "print(bool(1), bool(-8), bool(1.67), bool(False)) # Any number in bool() returns True, except 0."
   ]
  },
  {
   "cell_type": "code",
   "execution_count": null,
   "id": "07650d9d-b7d6-444e-811a-6372cb93322b",
   "metadata": {},
   "outputs": [],
   "source": [
    "Code\n",
    "var1=5\n",
    "var2=____(var1)\n",
    "print(var2)\n",
    "\n",
    "Output: 5.0"
   ]
  },
  {
   "cell_type": "code",
   "execution_count": null,
   "id": "a7e05083-6475-4356-8559-da9dad35443f",
   "metadata": {},
   "outputs": [],
   "source": [
    "Variables and Data Types\n",
    "Choose the correct Python code according to the following steps:\n",
    "\n",
    "Take a number input from a user and assign it to x.\n",
    "Take another number input from the user and assign it to y.\n",
    "Store the values of x and y in new variables a and b respectively with the data type changed to float.\n",
    "Update the value of a with the difference between a and b.\n",
    "Print the value of a.\n",
    "a-=b"
   ]
  },
  {
   "cell_type": "code",
   "execution_count": null,
   "id": "882fae01-6c6e-4250-9da8-56ae2b6d4e1a",
   "metadata": {},
   "outputs": [],
   "source": [
    "Which of these pairs has operators with the same precedence level?\n",
    "Multiplication and division\n",
    "Division and subtraction\n",
    "Addition and multiplication\n",
    "Addition and division"
   ]
  },
  {
   "cell_type": "code",
   "execution_count": null,
   "id": "4b03dcdc-795a-451f-b634-9cd431fb7846",
   "metadata": {},
   "outputs": [],
   "source": [
    "print(2**3+(2+2)**(2+1))   #72"
   ]
  },
  {
   "cell_type": "code",
   "execution_count": 1,
   "id": "1d058e9b-e2ae-4f6b-abc4-894a4ec76751",
   "metadata": {},
   "outputs": [
    {
     "data": {
      "text/plain": [
       "10"
      ]
     },
     "execution_count": 1,
     "metadata": {},
     "output_type": "execute_result"
    }
   ],
   "source": [
    "10%55"
   ]
  },
  {
   "cell_type": "code",
   "execution_count": null,
   "id": "28048f6e-5c8e-4dcb-83ee-9cf886feb720",
   "metadata": {},
   "outputs": [],
   "source": [
    "print(4%100,4//100,4/100) \n",
    "#% is the remainder operator, // is integer type division and / is float type division."
   ]
  },
  {
   "cell_type": "code",
   "execution_count": null,
   "id": "83ecfade-aee3-4ac5-a288-1efa11b82fb3",
   "metadata": {},
   "outputs": [],
   "source": [
    "#which operator should we use\n",
    "3**(5?4) = 3"
   ]
  },
  {
   "cell_type": "code",
   "execution_count": null,
   "id": "9d17d9ae-e56c-4582-b327-3614c8f3d947",
   "metadata": {},
   "outputs": [],
   "source": [
    "type(3.14) "
   ]
  },
  {
   "cell_type": "code",
   "execution_count": null,
   "id": "42f118f6-19ef-4208-bdc1-a7e8c46e6ffa",
   "metadata": {},
   "outputs": [],
   "source": [
    "What is the correct way to assign a value to a variable in Python?\n",
    "1 variable = value\n",
    "2 set variable = value\n",
    "3 define variable as value\n",
    "4 All of the above"
   ]
  },
  {
   "cell_type": "code",
   "execution_count": null,
   "id": "42737ad3-d9e5-41aa-9554-1d8e99ad35aa",
   "metadata": {},
   "outputs": [],
   "source": [
    "x = 5\n",
    "y = x\n",
    "x = 3\n",
    "print(y)"
   ]
  },
  {
   "cell_type": "code",
   "execution_count": null,
   "id": "b7d653a7-14d3-4a19-bbf2-a3acb55811be",
   "metadata": {},
   "outputs": [],
   "source": [
    "Write a program to calculate the area of a rectangle.\n",
    "Sample input\n",
    "4\n",
    "5\n",
    "Sample Output\n",
    "20"
   ]
  },
  {
   "cell_type": "code",
   "execution_count": null,
   "id": "e8713d0d-ead4-424a-8d0b-85eb7defdc79",
   "metadata": {},
   "outputs": [],
   "source": [
    "Write a Python program to take two integer inputs from the user,\n",
    "change the data type to float and print the float type and integer type\n",
    "division of inputs.\n",
    "Sample input:\n",
    "4\n",
    "5"
   ]
  },
  {
   "cell_type": "code",
   "execution_count": null,
   "id": "f08e57f9-d65b-4583-80e9-f393d9098a1e",
   "metadata": {},
   "outputs": [],
   "source": [
    "x = 5\n",
    "y = 2\n",
    "z = 6\n",
    "print(x / y + (z ** x) - y)"
   ]
  },
  {
   "cell_type": "code",
   "execution_count": null,
   "id": "83cbac36-2f48-45de-8d00-36cfa93160fd",
   "metadata": {},
   "outputs": [],
   "source": [
    " x / y will evaluate to 5 / 2, which is 2.5.\n",
    "2. z ** x will evaluate to 6 ** 5, which is 7776.\n",
    "3. 2.5 + 7776 is 7778.5.\n",
    "4. Finally, 7778.5 - 2 is 7776.5."
   ]
  },
  {
   "cell_type": "code",
   "execution_count": null,
   "id": "ef7f3a34-7f9c-44b8-a185-1604482a38b1",
   "metadata": {},
   "outputs": [],
   "source": [
    "l=[10,20,30,40,50]\n",
    "a=30\n",
    "if a in l:\n",
    "    print(\"present\")\n",
    "else:\n",
    "    print(\"not present\")"
   ]
  },
  {
   "cell_type": "code",
   "execution_count": null,
   "id": "eb4ec78d-747e-494d-9886-344a3fed0ba8",
   "metadata": {},
   "outputs": [],
   "source": [
    "list = ['alice', 'bob', 'carol']\n",
    "\n",
    "if 'dave' not in list:\n",
    "    print(\"User not found!\")"
   ]
  },
  {
   "cell_type": "code",
   "execution_count": null,
   "id": "cb75b518-bdd8-415b-892a-047358507468",
   "metadata": {},
   "outputs": [],
   "source": [
    "fruits = ['apple', 'banana', 'mango']\n",
    "\n",
    "if 'banana' in fruits:\n",
    "    print(\"Yes, banana is in the list.\")"
   ]
  },
  {
   "cell_type": "code",
   "execution_count": null,
   "id": "f1ff6729-c711-473d-8032-7c3268040686",
   "metadata": {},
   "outputs": [],
   "source": [
    "#find the no which is not present in exclude\n",
    "numbers = [1, 2, 3, 4, 5]\n",
    "excluded = [2, 4]\n",
    "\n",
    "for num in numbers:\n",
    "    if num not in excluded:\n",
    "        print(num)"
   ]
  },
  {
   "cell_type": "markdown",
   "id": "3e124ac5-fe94-4007-b37a-19d1ae6f060d",
   "metadata": {},
   "source": [
    "identity operator"
   ]
  },
  {
   "cell_type": "code",
   "execution_count": null,
   "id": "b575040e-2089-4f6c-8e01-3ca454f715b3",
   "metadata": {},
   "outputs": [],
   "source": [
    "#check whether  two variable refers to same object(variable) in same memory location\n",
    "# it donnot matter they have same value\n",
    "# is\n",
    "# is not"
   ]
  },
  {
   "cell_type": "code",
   "execution_count": null,
   "id": "6067003a-a602-4ebe-a488-e274d85c861b",
   "metadata": {},
   "outputs": [],
   "source": [
    "for immutable object\n",
    "This does not copy the value of y into a new independent object.\n",
    "\n",
    "Instead, it makes x reference the same object that y references."
   ]
  },
  {
   "cell_type": "code",
   "execution_count": 14,
   "id": "cdfaf3b5-c842-4c98-b068-41a0bf01bd4f",
   "metadata": {},
   "outputs": [
    {
     "name": "stdout",
     "output_type": "stream",
     "text": [
      "20\n",
      "20\n",
      "True\n"
     ]
    }
   ],
   "source": [
    "x = 10\n",
    "y = 20\n",
    "x=y\n",
    "print(x)\n",
    "print(y)\n",
    "print(x is y)"
   ]
  },
  {
   "cell_type": "code",
   "execution_count": 15,
   "id": "48e973f2-5565-4193-9b28-bd146b925fb2",
   "metadata": {},
   "outputs": [
    {
     "name": "stdout",
     "output_type": "stream",
     "text": [
      "True\n"
     ]
    }
   ],
   "source": [
    "a=\"renu\"\n",
    "b=\"ritu\"\n",
    "a=b\n",
    "print(a is b)"
   ]
  },
  {
   "cell_type": "code",
   "execution_count": 10,
   "id": "846a530f-6f03-48a6-a4e1-1216aefd4fbe",
   "metadata": {},
   "outputs": [
    {
     "name": "stdout",
     "output_type": "stream",
     "text": [
      "True\n"
     ]
    }
   ],
   "source": [
    "a=\"renusfhsbfjkshnfkjsghsBgjsjkghjsesfdsgsdgsd\"\n",
    "b=\"renusfhsbfjkshnfkjsghsBgjsjkghjsesfdsgsdgsd\"\n",
    "print(a is b)"
   ]
  },
  {
   "cell_type": "code",
   "execution_count": null,
   "id": "bac48718-5e35-475e-be5f-4c82ce22a2f5",
   "metadata": {},
   "outputs": [],
   "source": []
  },
  {
   "cell_type": "code",
   "execution_count": null,
   "id": "f757a1f5-cae7-4b6a-ae00-d20fb4cc3f5d",
   "metadata": {},
   "outputs": [],
   "source": []
  },
  {
   "cell_type": "code",
   "execution_count": 1,
   "id": "8afeb570-f13b-456d-9fd1-933596d3754a",
   "metadata": {},
   "outputs": [
    {
     "name": "stdout",
     "output_type": "stream",
     "text": [
      "10\n",
      "10\n",
      "140724288337096\n",
      "140724288337096\n"
     ]
    }
   ],
   "source": [
    "x = 10\n",
    "y = 10\n",
    "print(x is y)\n",
    "x=y   # share same address\n",
    "print(x)\n",
    "print(y)\n",
    "print(id(x))\n",
    "print(id(y))#Both x and y point to the same integer object 10"
   ]
  },
  {
   "cell_type": "code",
   "execution_count": null,
   "id": "6d82540b-3e5f-4489-925a-c0731eba41e7",
   "metadata": {},
   "outputs": [
    {
     "name": "stdout",
     "output_type": "stream",
     "text": [
      "10\n",
      "10\n",
      "140725353034952\n",
      "140725353034952\n",
      "10\n",
      "50\n",
      "False\n"
     ]
    }
   ],
   "source": [
    "#after modification(assign different value )\n",
    "y=50\n",
    "print(x)\n",
    "print(y)\n",
    "print(x is y)  "
   ]
  },
  {
   "cell_type": "code",
   "execution_count": 2,
   "id": "7d8d6d51-8b8c-48c7-811d-7e8ed82617fd",
   "metadata": {},
   "outputs": [
    {
     "name": "stdout",
     "output_type": "stream",
     "text": [
      "50\n",
      "10\n",
      "False\n"
     ]
    }
   ],
   "source": [
    "x=50\n",
    "print(x)\n",
    "print(y)\n",
    "print(x is y) "
   ]
  },
  {
   "cell_type": "code",
   "execution_count": 10,
   "id": "e02d1288-ad63-4587-9a23-2965787d57c0",
   "metadata": {},
   "outputs": [],
   "source": [
    "x = 5\n",
    "y = x\n",
    "\n",
    "x += 3  # equivalent to x = x + 3\n"
   ]
  },
  {
   "cell_type": "markdown",
   "id": "e4bad0f7-c5fe-4d16-bf71-90b9233cf70c",
   "metadata": {},
   "source": [
    "For mutable object"
   ]
  },
  {
   "cell_type": "code",
   "execution_count": null,
   "id": "b48ad89a-ee7b-4f2d-9522-1b4b74c09267",
   "metadata": {},
   "outputs": [],
   "source": [
    "y = [1, 2]\n",
    "x = y\n",
    "print(x)\n",
    "print(y)\n",
    "print(id(x))\n",
    "print(id(y))#Both x and y point to the same integer object 10"
   ]
  },
  {
   "cell_type": "code",
   "execution_count": null,
   "id": "540ba0db-bb52-43f2-9a11-96dca09b0df0",
   "metadata": {},
   "outputs": [
    {
     "name": "stdout",
     "output_type": "stream",
     "text": [
      "[1, 2]\n",
      "[1, 2]\n",
      "2338483622656\n",
      "2338483622656\n",
      "[1, 2, 3]\n",
      "[1, 2, 3]\n",
      "True\n"
     ]
    }
   ],
   "source": [
    "#after modification\n",
    "x.append(3)\n",
    "print(x)\n",
    "print(y)# x=x+3  modify in x itself\n",
    "print(x is y) "
   ]
  },
  {
   "cell_type": "code",
   "execution_count": 4,
   "id": "fe87630b-471f-471a-99e1-dd2fb39d28e6",
   "metadata": {},
   "outputs": [
    {
     "name": "stdout",
     "output_type": "stream",
     "text": [
      "2158206286864\n",
      "2158206286864\n"
     ]
    }
   ],
   "source": [
    "print(id(x))\n",
    "print(id(y)) # same "
   ]
  },
  {
   "cell_type": "code",
   "execution_count": null,
   "id": "489dc85d-8010-43e6-9642-03947935e5ab",
   "metadata": {},
   "outputs": [],
   "source": [
    "[1, 2, 3]  (list object)\n",
    "x ─────▶ [1, 2, 3]\n",
    "y ─────▶ [1, 2, 3]"
   ]
  },
  {
   "cell_type": "code",
   "execution_count": 6,
   "id": "1b8e6b2f-b1b7-44cb-82a5-9aa2e849b6f9",
   "metadata": {},
   "outputs": [
    {
     "data": {
      "text/plain": [
       "True"
      ]
     },
     "execution_count": 6,
     "metadata": {},
     "output_type": "execute_result"
    }
   ],
   "source": [
    "x is y"
   ]
  },
  {
   "cell_type": "code",
   "execution_count": null,
   "id": "0212befd-2c69-46e2-8c2a-e19bc43ab6a3",
   "metadata": {},
   "outputs": [],
   "source": [
    "immutable object (int,str,tuple) create a new object \n",
    "mutable object (list,dict,sets)  the object itself changes — the name doesn’t move.."
   ]
  },
  {
   "cell_type": "code",
   "execution_count": null,
   "id": "a2dab898-1042-424f-a363-57173dda943f",
   "metadata": {},
   "outputs": [],
   "source": []
  },
  {
   "cell_type": "code",
   "execution_count": null,
   "id": "04d28c42-3342-4f24-80d3-937016b2e82c",
   "metadata": {},
   "outputs": [],
   "source": [
    "a=10\n",
    "b=20\n",
    "c=a\n",
    "print(a is c)\n",
    "print(a is b)"
   ]
  },
  {
   "cell_type": "markdown",
   "id": "1b52bcb9-e591-44b0-a647-8b8c5e97ca9d",
   "metadata": {},
   "source": [
    "logical operator"
   ]
  },
  {
   "cell_type": "code",
   "execution_count": null,
   "id": "db6951c8-9961-45d5-b03a-e461e7c30f8c",
   "metadata": {},
   "outputs": [],
   "source": [
    "and,or,not"
   ]
  },
  {
   "cell_type": "code",
   "execution_count": null,
   "id": "57284c12-84a6-4c9c-ba73-5712784a1b6c",
   "metadata": {},
   "outputs": [],
   "source": []
  },
  {
   "cell_type": "code",
   "execution_count": null,
   "id": "f5cc7b6c-8651-482c-8fbc-b36a8ebc0218",
   "metadata": {},
   "outputs": [],
   "source": [
    "x = 10\n",
    "y = 5\n",
    "\n",
    "# Using 'and'\n",
    "if x > 5 and y < 10:\n",
    "    print(\"Both conditions are True\")\n",
    "    "
   ]
  },
  {
   "cell_type": "code",
   "execution_count": null,
   "id": "6fc07d7f-c3e0-4bfe-b654-40645313aa42",
   "metadata": {},
   "outputs": [],
   "source": [
    "# Using 'or'\n",
    "if x < 5 or y < 10:\n",
    "    print(\"At least one condition is True\")"
   ]
  },
  {
   "cell_type": "code",
   "execution_count": null,
   "id": "ebac109e-aaad-4c74-849f-cf37bb85fb7c",
   "metadata": {},
   "outputs": [],
   "source": [
    "# Using 'not'\n",
    "if not (x < y):\n",
    "    print(\"x is not less than y\")"
   ]
  },
  {
   "cell_type": "code",
   "execution_count": null,
   "id": "252e27b1-9de8-47a6-b80e-f13866bfaf83",
   "metadata": {},
   "outputs": [],
   "source": []
  },
  {
   "cell_type": "code",
   "execution_count": null,
   "id": "e382640b-60f8-4765-a44b-9288587a04dc",
   "metadata": {},
   "outputs": [],
   "source": []
  },
  {
   "cell_type": "markdown",
   "id": "5b83dc54-a64e-47d1-a7c4-44f694ad1a25",
   "metadata": {},
   "source": [
    "ASSIGNMENT OPERATOR"
   ]
  },
  {
   "cell_type": "code",
   "execution_count": null,
   "id": "2d542553-d24c-47b9-ab96-3524c3a08c60",
   "metadata": {},
   "outputs": [],
   "source": [
    "# used to assign new object (new value) to a variable "
   ]
  },
  {
   "cell_type": "code",
   "execution_count": null,
   "id": "f9efaf24-d81f-49e7-9db0-3af72516e5d8",
   "metadata": {},
   "outputs": [],
   "source": [
    "x = 10\n",
    "y = 10\n",
    "x=y   # share same address\n",
    "print(x)\n",
    "print(y)\n",
    "print(id(x))\n",
    "print(id(y))#Both x and y point to the same integer object 10"
   ]
  },
  {
   "cell_type": "code",
   "execution_count": 3,
   "id": "bc5aba09-f734-4be9-a40f-367261d76ae7",
   "metadata": {},
   "outputs": [
    {
     "name": "stdout",
     "output_type": "stream",
     "text": [
      "8\n",
      "5\n"
     ]
    }
   ],
   "source": [
    "x = 5\n",
    "y = x\n",
    "\n",
    "x += 3  # equivalent to x = x + 3\n",
    "print(x)  #value diff and add diff because int is immutable\n",
    "print(y)"
   ]
  },
  {
   "cell_type": "code",
   "execution_count": 5,
   "id": "2aeb546d-26be-4d31-93f8-c0c524b59163",
   "metadata": {},
   "outputs": [
    {
     "ename": "SyntaxError",
     "evalue": "unexpected character after line continuation character (1516833821.py, line 4)",
     "output_type": "error",
     "traceback": [
      "\u001b[1;36m  Cell \u001b[1;32mIn[5], line 4\u001b[1;36m\u001b[0m\n\u001b[1;33m    print(s,\\n t)\u001b[0m\n\u001b[1;37m             ^\u001b[0m\n\u001b[1;31mSyntaxError\u001b[0m\u001b[1;31m:\u001b[0m unexpected character after line continuation character\n"
     ]
    }
   ],
   "source": [
    "s = \"Hello\"\n",
    "t = s\n",
    "s += \" World\"  # equivalent to s = s + \" World\"\n",
    "print(s)\n",
    "print(t)\n",
    "#Strings are immutable, so += creates a new string object.\n",
    "#t still points to the original \"Hello\"."
   ]
  },
  {
   "cell_type": "code",
   "execution_count": null,
   "id": "c4b12424-e071-4324-980f-9c88bf7d5bae",
   "metadata": {},
   "outputs": [],
   "source": [
    "x = [1, 2]\n",
    "y = x\n",
    "x += [3, 4]  # modifies the list in place\n",
    "print(x, y)"
   ]
  },
  {
   "cell_type": "code",
   "execution_count": null,
   "id": "00fb41b7-c6fe-4704-9869-ed19bf3beb89",
   "metadata": {},
   "outputs": [],
   "source": [
    "a = {1, 2}\n",
    "b = a\n",
    "a.update({3})"
   ]
  },
  {
   "cell_type": "code",
   "execution_count": null,
   "id": "ce4b7f93-16f1-4fc2-9960-c1debf6a221b",
   "metadata": {},
   "outputs": [],
   "source": [
    "a is b → compares object identity (same memory address?)\n",
    "a == b → compares value equality\n",
    "a=b -> both a and b refer to the same object in memory"
   ]
  },
  {
   "cell_type": "code",
   "execution_count": null,
   "id": "011ef42f-372c-4034-81ee-dc92e73d10bf",
   "metadata": {},
   "outputs": [],
   "source": [
    "x += 5   # x = 15  # x=x+5\n",
    "x *= 2   # x = 20   # x=x*2\n",
    "x -= 10  # x = 0   #x=x-10\n",
    "x //= 4  # x = 2   # x=x//4"
   ]
  },
  {
   "cell_type": "code",
   "execution_count": null,
   "id": "53ecce17-676f-4066-a263-5a79e59f68c0",
   "metadata": {},
   "outputs": [],
   "source": []
  }
 ],
 "metadata": {
  "kernelspec": {
   "display_name": "Python [conda env:base] *",
   "language": "python",
   "name": "conda-base-py"
  },
  "language_info": {
   "codemirror_mode": {
    "name": "ipython",
    "version": 3
   },
   "file_extension": ".py",
   "mimetype": "text/x-python",
   "name": "python",
   "nbconvert_exporter": "python",
   "pygments_lexer": "ipython3",
   "version": "3.13.5"
  }
 },
 "nbformat": 4,
 "nbformat_minor": 5
}
